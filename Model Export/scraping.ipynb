{
 "cells": [
  {
   "cell_type": "code",
   "execution_count": 7,
   "metadata": {},
   "outputs": [
    {
     "name": "stdout",
     "output_type": "stream",
     "text": [
      "Summary of Historical Data for MSFT:\n",
      "                                 Open       Close\n",
      "Date                                             \n",
      "2025-01-13 00:00:00-05:00  415.239990  417.190002\n",
      "2025-01-14 00:00:00-05:00  417.809998  415.670013\n",
      "2025-01-15 00:00:00-05:00  419.130005  426.309998\n",
      "2025-01-16 00:00:00-05:00  428.700012  424.579987\n",
      "2025-01-17 00:00:00-05:00  434.089996  429.029999\n"
     ]
    }
   ],
   "source": [
    "import yfinance as yf\n",
    "\n",
    "# Define the ticker symbol\n",
    "ticker_symbol = \"MSFT\"\n",
    "\n",
    "# Create a Ticker object\n",
    "ticker = yf.Ticker(ticker_symbol)\n",
    "\n",
    "# Fetch historical market data for the last 5 days\n",
    "historical_data = ticker.history(period=\"5d\")\n",
    "historical_data = historical_data['Close'] # Closing price only\n",
    "\n",
    "# Display a summary of the fetched data\n",
    "print(f\"Summary of Historical Data for {ticker_symbol}:\")\n",
    "print(historical_data[['Open',  'Close']])"
   ]
  }
 ],
 "metadata": {
  "kernelspec": {
   "display_name": "Python 3",
   "language": "python",
   "name": "python3"
  },
  "language_info": {
   "codemirror_mode": {
    "name": "ipython",
    "version": 3
   },
   "file_extension": ".py",
   "mimetype": "text/x-python",
   "name": "python",
   "nbconvert_exporter": "python",
   "pygments_lexer": "ipython3",
   "version": "3.12.3"
  }
 },
 "nbformat": 4,
 "nbformat_minor": 2
}
